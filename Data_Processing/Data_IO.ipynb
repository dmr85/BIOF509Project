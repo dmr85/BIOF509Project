{
 "cells": [
  {
   "cell_type": "markdown",
   "metadata": {},
   "source": [
    "# Data I/O  \n",
    "### Purpose: be able to import and work with the [European Soccer Database](https://www.kaggle.com/hugomathien/soccer) "
   ]
  },
  {
   "cell_type": "code",
   "execution_count": 5,
   "metadata": {
    "collapsed": true
   },
   "outputs": [],
   "source": [
    "#import packages\n",
    "import sqlite3\n",
    "import pandas as pd"
   ]
  },
  {
   "cell_type": "code",
   "execution_count": 54,
   "metadata": {
    "collapsed": false
   },
   "outputs": [
    {
     "name": "stdout",
     "output_type": "stream",
     "text": [
      "Tables in file:  [('sqlite_sequence',), ('Player_Attributes',), ('Player',), ('Match',), ('League',), ('Country',), ('Team',), ('Team_Attributes',)]\n"
     ]
    }
   ],
   "source": [
    "#create a connection with the SQLite database\n",
    "with sqlite3.connect('database.sqlite') as con:\n",
    "    \n",
    "    #these lines allow us to get the names of all of the tables in the database\n",
    "    cursor = con.cursor()\n",
    "    cursor.execute(\"SELECT name FROM sqlite_master WHERE type='table';\")\n",
    "    \n",
    "    #the names of all of the tables are stored in the variable table_names\n",
    "    table_names = cursor.fetchall()\n",
    "    \n",
    "    #we'll print the table names in the file\n",
    "    print('Tables in file: ', table_names)\n",
    "    \n",
    "    #we're going to convert every table from the sqlite database into individual pandas dataframes\n",
    "    #(except for the first entry in table_name: 'sqlite_sequence')\n",
    "    \n",
    "    #we'll store pandas dataframes in the list tables\n",
    "    tables = []\n",
    "    \n",
    "    #loop through each table name in the table_names (except for the first one)\n",
    "    for i in table_names[1:]:\n",
    "        \n",
    "        #create the string command to retrieve table from database (e.g., SELECT * from Player)\n",
    "        command = \"SELECT * from \" + i[0]\n",
    "        \n",
    "        #retrieve the table, make it a pandas dataframe, and append it to our tables list\n",
    "        tables.append(pd.read_sql_query(command, con))\n",
    "\n",
    "        \n",
    "#now we'll loop through each pandas dataframe and save it as its own .csv file, with the file name being its table name\n",
    "for i in range(len(tables)):\n",
    "    tables[i].to_csv(table_names[i+1][0]+'.csv', index_label='index')"
   ]
  }
 ],
 "metadata": {
  "anaconda-cloud": {},
  "kernelspec": {
   "display_name": "Python 3",
   "language": "python",
   "name": "python3"
  },
  "language_info": {
   "codemirror_mode": {
    "name": "ipython",
    "version": 3
   },
   "file_extension": ".py",
   "mimetype": "text/x-python",
   "name": "python",
   "nbconvert_exporter": "python",
   "pygments_lexer": "ipython3",
   "version": "3.6.0"
  }
 },
 "nbformat": 4,
 "nbformat_minor": 1
}
